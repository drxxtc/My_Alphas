{
 "cells": [
  {
   "cell_type": "code",
   "execution_count": 2,
   "metadata": {},
   "outputs": [
    {
     "name": "stderr",
     "output_type": "stream",
     "text": [
      "C:\\Users\\eliza\\Anaconda3\\lib\\site-packages\\sklearn\\linear_model\\least_angle.py:30: DeprecationWarning: `np.float` is a deprecated alias for the builtin `float`. To silence this warning, use `float` by itself. Doing this will not modify any behavior and is safe. If you specifically wanted the numpy scalar type, use `np.float64` here.\n",
      "Deprecated in NumPy 1.20; for more details and guidance: https://numpy.org/devdocs/release/1.20.0-notes.html#deprecations\n",
      "  method='lar', copy_X=True, eps=np.finfo(np.float).eps,\n",
      "C:\\Users\\eliza\\Anaconda3\\lib\\site-packages\\sklearn\\linear_model\\least_angle.py:167: DeprecationWarning: `np.float` is a deprecated alias for the builtin `float`. To silence this warning, use `float` by itself. Doing this will not modify any behavior and is safe. If you specifically wanted the numpy scalar type, use `np.float64` here.\n",
      "Deprecated in NumPy 1.20; for more details and guidance: https://numpy.org/devdocs/release/1.20.0-notes.html#deprecations\n",
      "  method='lar', copy_X=True, eps=np.finfo(np.float).eps,\n",
      "C:\\Users\\eliza\\Anaconda3\\lib\\site-packages\\sklearn\\linear_model\\least_angle.py:284: DeprecationWarning: `np.float` is a deprecated alias for the builtin `float`. To silence this warning, use `float` by itself. Doing this will not modify any behavior and is safe. If you specifically wanted the numpy scalar type, use `np.float64` here.\n",
      "Deprecated in NumPy 1.20; for more details and guidance: https://numpy.org/devdocs/release/1.20.0-notes.html#deprecations\n",
      "  eps=np.finfo(np.float).eps, copy_Gram=True, verbose=0,\n",
      "C:\\Users\\eliza\\Anaconda3\\lib\\site-packages\\sklearn\\linear_model\\least_angle.py:862: DeprecationWarning: `np.float` is a deprecated alias for the builtin `float`. To silence this warning, use `float` by itself. Doing this will not modify any behavior and is safe. If you specifically wanted the numpy scalar type, use `np.float64` here.\n",
      "Deprecated in NumPy 1.20; for more details and guidance: https://numpy.org/devdocs/release/1.20.0-notes.html#deprecations\n",
      "  eps=np.finfo(np.float).eps, copy_X=True, fit_path=True,\n",
      "C:\\Users\\eliza\\Anaconda3\\lib\\site-packages\\sklearn\\linear_model\\least_angle.py:1101: DeprecationWarning: `np.float` is a deprecated alias for the builtin `float`. To silence this warning, use `float` by itself. Doing this will not modify any behavior and is safe. If you specifically wanted the numpy scalar type, use `np.float64` here.\n",
      "Deprecated in NumPy 1.20; for more details and guidance: https://numpy.org/devdocs/release/1.20.0-notes.html#deprecations\n",
      "  eps=np.finfo(np.float).eps, copy_X=True, fit_path=True,\n",
      "C:\\Users\\eliza\\Anaconda3\\lib\\site-packages\\sklearn\\linear_model\\least_angle.py:1127: DeprecationWarning: `np.float` is a deprecated alias for the builtin `float`. To silence this warning, use `float` by itself. Doing this will not modify any behavior and is safe. If you specifically wanted the numpy scalar type, use `np.float64` here.\n",
      "Deprecated in NumPy 1.20; for more details and guidance: https://numpy.org/devdocs/release/1.20.0-notes.html#deprecations\n",
      "  eps=np.finfo(np.float).eps, positive=False):\n",
      "C:\\Users\\eliza\\Anaconda3\\lib\\site-packages\\sklearn\\linear_model\\least_angle.py:1362: DeprecationWarning: `np.float` is a deprecated alias for the builtin `float`. To silence this warning, use `float` by itself. Doing this will not modify any behavior and is safe. If you specifically wanted the numpy scalar type, use `np.float64` here.\n",
      "Deprecated in NumPy 1.20; for more details and guidance: https://numpy.org/devdocs/release/1.20.0-notes.html#deprecations\n",
      "  max_n_alphas=1000, n_jobs=None, eps=np.finfo(np.float).eps,\n",
      "C:\\Users\\eliza\\Anaconda3\\lib\\site-packages\\sklearn\\linear_model\\least_angle.py:1602: DeprecationWarning: `np.float` is a deprecated alias for the builtin `float`. To silence this warning, use `float` by itself. Doing this will not modify any behavior and is safe. If you specifically wanted the numpy scalar type, use `np.float64` here.\n",
      "Deprecated in NumPy 1.20; for more details and guidance: https://numpy.org/devdocs/release/1.20.0-notes.html#deprecations\n",
      "  max_n_alphas=1000, n_jobs=None, eps=np.finfo(np.float).eps,\n",
      "C:\\Users\\eliza\\Anaconda3\\lib\\site-packages\\sklearn\\linear_model\\least_angle.py:1738: DeprecationWarning: `np.float` is a deprecated alias for the builtin `float`. To silence this warning, use `float` by itself. Doing this will not modify any behavior and is safe. If you specifically wanted the numpy scalar type, use `np.float64` here.\n",
      "Deprecated in NumPy 1.20; for more details and guidance: https://numpy.org/devdocs/release/1.20.0-notes.html#deprecations\n",
      "  eps=np.finfo(np.float).eps, copy_X=True, positive=False):\n",
      "C:\\Users\\eliza\\Anaconda3\\lib\\site-packages\\sklearn\\decomposition\\online_lda.py:29: DeprecationWarning: `np.float` is a deprecated alias for the builtin `float`. To silence this warning, use `float` by itself. Doing this will not modify any behavior and is safe. If you specifically wanted the numpy scalar type, use `np.float64` here.\n",
      "Deprecated in NumPy 1.20; for more details and guidance: https://numpy.org/devdocs/release/1.20.0-notes.html#deprecations\n",
      "  EPS = np.finfo(np.float).eps\n"
     ]
    }
   ],
   "source": [
    "import pandas as pd\n",
    "import numpy as np\n",
    "from sklearn.decomposition import FastICA\n",
    "from sklearn.decomposition import PCA\n",
    "import matplotlib.pyplot as plt\n",
    "from sklearn.neighbors import NearestNeighbors"
   ]
  },
  {
   "cell_type": "markdown",
   "metadata": {},
   "source": [
    "# Чтение данных"
   ]
  },
  {
   "cell_type": "code",
   "execution_count": 340,
   "metadata": {},
   "outputs": [],
   "source": [
    "file1=pd.read_csv(\"Close.csv\")\n",
    "x=file1.drop('Unnamed: 0', axis=1).to_numpy()\n",
    "y=file1.loc[:,['Unnamed: 0']].values"
   ]
  },
  {
   "cell_type": "code",
   "execution_count": 4,
   "metadata": {},
   "outputs": [],
   "source": [
    "file2=pd.read_csv(\"High.csv\")\n",
    "high=file2.drop('Unnamed: 0', axis=1).to_numpy()\n",
    "y=file1.loc[:,['Unnamed: 0']].values"
   ]
  },
  {
   "cell_type": "code",
   "execution_count": 5,
   "metadata": {},
   "outputs": [],
   "source": [
    "file3=pd.read_csv(\"Low.csv\")\n",
    "low=file3.drop('Unnamed: 0', axis=1).to_numpy()\n",
    "y=file1.loc[:,['Unnamed: 0']].values"
   ]
  },
  {
   "cell_type": "code",
   "execution_count": 6,
   "metadata": {},
   "outputs": [],
   "source": [
    "file4=pd.read_csv(\"Open.csv\")\n",
    "op=file4.drop('Unnamed: 0', axis=1).to_numpy()\n",
    "y=file1.loc[:,['Unnamed: 0']].values"
   ]
  },
  {
   "cell_type": "code",
   "execution_count": 7,
   "metadata": {},
   "outputs": [],
   "source": [
    "file5=pd.read_csv(\"Volume.csv\")\n",
    "volume=file4.drop('Unnamed: 0', axis=1).to_numpy()\n",
    "y=file1.loc[:,['Unnamed: 0']].values"
   ]
  },
  {
   "cell_type": "markdown",
   "metadata": {},
   "source": [
    "# Фильтрация цены"
   ]
  },
  {
   "cell_type": "code",
   "execution_count": 8,
   "metadata": {},
   "outputs": [],
   "source": [
    "#k -скачок цены\n",
    "def value_filt(mass,i):\n",
    "    if (abs(10*mass[i]/mass[i-1] -1)<0.1 and abs(10*mass[i]/mass[i+1] -1)<0.1):\n",
    "        return (10*mass[i]/mass[i-1] -1)\n",
    "    if abs(mass[i]/(10*mass[i-1]) -1)<0.1:\n",
    "        return (mass[i]/(10*mass[i-1]) -1)\n",
    "    if (abs(100*mass[i]/mass[i-1] -1)<0.1 and abs(100*mass[i]/mass[i+1] -1)<0.1):\n",
    "        return (100*mass[i]/mass[i-1] -1)\n",
    "    if abs(mass[i]/(100*mass[i-1]) -1)<0.1:\n",
    "        return (mass[i]/(100*mass[i-1]) -1)\n",
    "    else: \n",
    "        return (mass[i]/mass[i-1] -1)"
   ]
  },
  {
   "cell_type": "code",
   "execution_count": 9,
   "metadata": {},
   "outputs": [],
   "source": [
    "def build_filt(x): #на входе передается данные - массив n*m\n",
    "    n=x.shape[0]\n",
    "    m=x.shape[1]\n",
    "    filt=np.zeros((n, m))\n",
    "    count=0\n",
    "    for i in range(n):\n",
    "        for j in range(1,m-1):\n",
    "            filt[i, j]=value_filt(x[i],j)\n",
    "    return filt[:, 1:]"
   ]
  },
  {
   "cell_type": "code",
   "execution_count": 10,
   "metadata": {},
   "outputs": [],
   "source": [
    "def build_sharpe(list_pnl):\n",
    "    sharpe=np.zeros(len(list_pnl))\n",
    "    for i in range(5):\n",
    "        sharpe[i]=(252)**(1/2)*(list_pnl[250*i:250*(i+1)].mean())/list_pnl[250*i:250*(i+1)].std()\n",
    "    return sharpe"
   ]
  },
  {
   "cell_type": "code",
   "execution_count": 30,
   "metadata": {},
   "outputs": [],
   "source": [
    "def build_pnl_by_alpha_new(alpha,filt):\n",
    "    pnl=np.zeros((len(alpha), 1))\n",
    "    for i in range (1257-2):\n",
    "        pnl[i]=alpha[i]@(filt.transpose())[i+1]\n",
    "    build_graph(pnl)\n",
    "    return pnl"
   ]
  },
  {
   "cell_type": "code",
   "execution_count": 610,
   "metadata": {},
   "outputs": [],
   "source": [
    "def build_turnover(alpha_d):\n",
    "    turnover=np.zeros(len(alpha_d))\n",
    "    for i in range(1,len(alpha_d)):\n",
    "    #print(alpha[i])\n",
    "        turnover[i]=np.linalg.norm(alpha_d[i]-alpha_d[i-1], ord=1)*100\n",
    "    plt.title('Turnover')    \n",
    "    plt.plot(turnover)\n",
    "    plt.show()"
   ]
  },
  {
   "cell_type": "markdown",
   "metadata": {},
   "source": [
    "# Построение альфы"
   ]
  },
  {
   "cell_type": "markdown",
   "metadata": {},
   "source": [
    "Нормализация"
   ]
  },
  {
   "cell_type": "code",
   "execution_count": 11,
   "metadata": {},
   "outputs": [],
   "source": [
    "def build_alpha(v):\n",
    "    return ((v-v.mean())/(np.linalg.norm(v-v.mean(), ord=1)))"
   ]
  },
  {
   "cell_type": "markdown",
   "metadata": {},
   "source": [
    "С помощью pca"
   ]
  },
  {
   "cell_type": "code",
   "execution_count": 12,
   "metadata": {},
   "outputs": [],
   "source": [
    "pca = PCA(n_components=1)"
   ]
  },
  {
   "cell_type": "markdown",
   "metadata": {},
   "source": [
    "Фильтр по резким скачкам цены"
   ]
  },
  {
   "cell_type": "code",
   "execution_count": 13,
   "metadata": {},
   "outputs": [],
   "source": [
    "filt=build_filt(x)\n",
    "new_filt=filt.transpose()\n",
    "for i in range(len(new_filt)):\n",
    "    for j in range(len(new_filt[i])):\n",
    "        if (new_filt[i][j]>0.1):\n",
    "            new_filt[i][j]=0.1\n",
    "        if new_filt[i][j]<-0.05:\n",
    "            new_filt[i][j]=-0.05"
   ]
  },
  {
   "cell_type": "code",
   "execution_count": 14,
   "metadata": {},
   "outputs": [
    {
     "data": {
      "text/plain": [
       "(2436, 1257)"
      ]
     },
     "execution_count": 14,
     "metadata": {},
     "output_type": "execute_result"
    }
   ],
   "source": [
    "x.shape"
   ]
  },
  {
   "cell_type": "code",
   "execution_count": 15,
   "metadata": {},
   "outputs": [],
   "source": [
    "days=filt.shape[1]\n",
    "n=filt.shape[0]\n",
    "pnl=np.zeros((days, 1))\n",
    "alpha=np.zeros((1, 2436))\n",
    "alphas=np.zeros((days, 2436))\n",
    "for i in range (20, days-2):\n",
    "    comp=pca.fit(new_filt[i-20:i,:]).components_\n",
    "    for j in  range(1):\n",
    "        alpha[j]=build_alpha(comp[j])\n",
    "        alphas[i, :]=alpha[j]\n",
    "        pnl[i][j]=alphas[j]@(filt.transpose()[i+1])"
   ]
  },
  {
   "cell_type": "code",
   "execution_count": 16,
   "metadata": {},
   "outputs": [
    {
     "data": {
      "text/plain": [
       "array([0.01340184, 0.03643868, 0.03613491, ..., 0.01280444, 0.05836675,\n",
       "       0.00584016])"
      ]
     },
     "execution_count": 16,
     "metadata": {},
     "output_type": "execute_result"
    }
   ],
   "source": [
    "comp[0]"
   ]
  },
  {
   "cell_type": "code",
   "execution_count": 17,
   "metadata": {},
   "outputs": [],
   "source": [
    "pnl=np.zeros((1257, 1))\n",
    "alpha=np.zeros((1, 2436))\n",
    "alphas=np.zeros((1257, 2436))\n",
    "for i in range (20, 1257-2):\n",
    "    comp=pca.fit(new_filt[i-20:i,:]).components_\n",
    "    for j in  range(1):\n",
    "        alpha[j]=build_alpha(comp[j])\n",
    "        alphas[i, :]=alpha[j]\n",
    "        pnl[i][j]=alpha[j]@(filt.transpose())[i+1]"
   ]
  },
  {
   "cell_type": "code",
   "execution_count": 18,
   "metadata": {},
   "outputs": [],
   "source": [
    "def build_pnl_by_alpha(alpha):\n",
    "    pnl=np.zeros((len(alpha), 1))\n",
    "    for i in range (20, 1257-2):\n",
    "        for j in  range(1):\n",
    "            pnl[i][j]=alpha[j]@(filt.transpose())[i+1]\n",
    "    build_graph(pnl)"
   ]
  },
  {
   "cell_type": "code",
   "execution_count": 683,
   "metadata": {},
   "outputs": [],
   "source": [
    "def build_pca(new_filt, filt, days, companies):\n",
    "    pnl=np.zeros((days, 1))\n",
    "    alpha=np.zeros((1, companies))\n",
    "    alphas=np.zeros((days, companies))\n",
    "    for i in range (20, days-2):\n",
    "        comp=pca.fit(new_filt[i-20:i,:]).components_\n",
    "        for j in  range(1):\n",
    "            alpha[j]=build_alpha(comp[j])\n",
    "            alphas[i, :]=alpha[j]\n",
    "            pnl[i][j]=alpha[j]@(filt.transpose())[i+1]\n",
    "    build_graph(pnl)\n",
    "    return alphas"
   ]
  },
  {
   "cell_type": "code",
   "execution_count": 20,
   "metadata": {},
   "outputs": [],
   "source": [
    "def build_graph(array):\n",
    "    plt.title('Graphic')\n",
    "    plt.plot(np.cumsum(array))\n",
    "    plt.show()"
   ]
  },
  {
   "cell_type": "code",
   "execution_count": 21,
   "metadata": {},
   "outputs": [],
   "source": [
    "def build_turnover(alpha_d):\n",
    "    turnover=np.zeros(len(alpha_d))\n",
    "    for i in range(len(alpha_d)):\n",
    "        turnover[i]=np.linalg.norm(alpha_d[i]-alpha_d[i-1], ord=1)*100\n",
    "    plt.plot(turnover)\n",
    "    plt.show()\n",
    "    return turnover"
   ]
  },
  {
   "cell_type": "code",
   "execution_count": 684,
   "metadata": {},
   "outputs": [
    {
     "data": {
      "image/png": "[encoded data removed]",
      "text/plain": [
       "<Figure size 432x288 with 1 Axes>"
      ]
     },
     "metadata": {
      "needs_background": "light"
     },
     "output_type": "display_data"
    }
   ],
   "source": [
    "pca_alpha=build_pca(new_filt, filt, 1257, 2436)"
   ]
  },
  {
   "cell_type": "code",
   "execution_count": 686,
   "metadata": {},
   "outputs": [
    {
     "data": {
      "image/png": "[encoded data removed]",
      "text/plain": [
       "<Figure size 432x288 with 1 Axes>"
      ]
     },
     "metadata": {
      "needs_background": "light"
     },
     "output_type": "display_data"
    }
   ],
   "source": [
    "pca_pnl=build_pnl_by_alpha_new(pca_alpha, filt)"
   ]
  },
  {
   "cell_type": "markdown",
   "metadata": {},
   "source": [
    "# Задача 4"
   ]
  },
  {
   "cell_type": "markdown",
   "metadata": {},
   "source": [
    "Alpha decay"
   ]
  },
  {
   "cell_type": "code",
   "execution_count": 687,
   "metadata": {},
   "outputs": [],
   "source": [
    "alpha_d=np.zeros((len(alphas), len(alphas[0])))\n",
    "for i in range(5):\n",
    "    for j in range(len(alphas[0])):\n",
    "        alpha_d[i][j]=alphas[i][j]\n",
    "for i in range(4,len(alphas)):\n",
    "    #for j in range(len(alphas[0])):\n",
    "    alpha_d[i]=1*alphas[i]+(1/2)*alphas[i-1]+(1/3)*alphas[i-2]+(1/4)*alphas[i-3]+(1/5)*alphas[i-4]\n",
    "    alpha_d[i]=build_alpha(alpha_d[i])"
   ]
  },
  {
   "cell_type": "code",
   "execution_count": 692,
   "metadata": {},
   "outputs": [
    {
     "data": {
      "image/png": "[encoded data removed]",
      "text/plain": [
       "<Figure size 432x288 with 1 Axes>"
      ]
     },
     "metadata": {
      "needs_background": "light"
     },
     "output_type": "display_data"
    }
   ],
   "source": [
    "decay_pnl=build_pnl_by_alpha_new(alpha_d, filt)"
   ]
  },
  {
   "cell_type": "markdown",
   "metadata": {},
   "source": [
    "close(d − 5) − close(d − 1)) / close(d − 1)."
   ]
  },
  {
   "cell_type": "code",
   "execution_count": 674,
   "metadata": {},
   "outputs": [],
   "source": [
    "def reversion_alpha(filt):\n",
    "    filt=filt.transpose()\n",
    "    n=filt.shape[0]\n",
    "    m=filt.shape[1]\n",
    "    alpha=np.zeros((n,m))\n",
    "    for d in range(5,n):\n",
    "        for i in range(m):\n",
    "            alpha[d, i]=(filt[d-5,i]-filt[d-1, i])/(filt[d-1, i])\n",
    "    alpha[d]=build_alpha(alpha[d])\n",
    "    return alpha"
   ]
  },
  {
   "cell_type": "code",
   "execution_count": 675,
   "metadata": {},
   "outputs": [],
   "source": [
    "rev_alpha=reversion_alpha(x)"
   ]
  },
  {
   "cell_type": "code",
   "execution_count": 676,
   "metadata": {
    "scrolled": true
   },
   "outputs": [
    {
     "data": {
      "image/png": "[encoded data removed]",
      "text/plain": [
       "<Figure size 432x288 with 1 Axes>"
      ]
     },
     "metadata": {
      "needs_background": "light"
     },
     "output_type": "display_data"
    }
   ],
   "source": [
    "rev_pnl=build_pnl_by_alpha_new(rev_alpha,filt)"
   ]
  },
  {
   "cell_type": "markdown",
   "metadata": {},
   "source": [
    "volatility reversion"
   ]
  },
  {
   "cell_type": "code",
   "execution_count": 38,
   "metadata": {},
   "outputs": [],
   "source": [
    "def vol_rev(high, low):\n",
    "    high=high.transpose()\n",
    "    low=low.transpose()\n",
    "    vol=np.zeros((len(high),len(high[0])))\n",
    "    alphas=np.zeros((1257, 2436))\n",
    "    for i in range(len(low)):\n",
    "        for j in range(len(high[0])):\n",
    "            vol[i][j]=(high[i][j]-low[i][j])/((high[i][j]+low[i][j]))\n",
    "        alphas[i, :]=build_alpha(vol[i])\n",
    "        #print(build_alpha(vol[i]))\n",
    "    return vol, alphas"
   ]
  },
  {
   "cell_type": "code",
   "execution_count": 39,
   "metadata": {},
   "outputs": [],
   "source": [
    "vol_rev, rev_vol_alpha=vol_rev(high, low)"
   ]
  },
  {
   "cell_type": "code",
   "execution_count": 677,
   "metadata": {},
   "outputs": [
    {
     "data": {
      "image/png": "[encoded data removed]",
      "text/plain": [
       "<Figure size 432x288 with 1 Axes>"
      ]
     },
     "metadata": {
      "needs_background": "light"
     },
     "output_type": "display_data"
    }
   ],
   "source": [
    "vol_rev_pnl=build_pnl_by_alpha_new(rev_vol_alpha,filt)"
   ]
  },
  {
   "cell_type": "code",
   "execution_count": 42,
   "metadata": {},
   "outputs": [
    {
     "data": {
      "image/png": "[encoded data removed]",
      "text/plain": [
       "<Figure size 432x288 with 1 Axes>"
      ]
     },
     "metadata": {
      "needs_background": "light"
     },
     "output_type": "display_data"
    }
   ],
   "source": [
    "build_turnover(rev_vol_alpha)"
   ]
  },
  {
   "cell_type": "markdown",
   "metadata": {},
   "source": [
    "high + low − 2close"
   ]
  },
  {
   "cell_type": "code",
   "execution_count": 660,
   "metadata": {},
   "outputs": [],
   "source": [
    "def high_close(high, close,low):\n",
    "    high=high.transpose()\n",
    "    close=close.transpose()\n",
    "    low=low.transpose()\n",
    "    vol=np.zeros((len(high),len(high[0])))\n",
    "    alphas=np.zeros((1257, 2436))\n",
    "    for i in range(len(low)):\n",
    "        for j in range(len(high[0])):\n",
    "            vol[i][j]=(high[i][j]+low[i][j]- 2*close[i][j])/((high[i][j]+low[i][j]))\n",
    "        alphas[i, :]=build_alpha(vol[i])\n",
    "    return alphas, vol "
   ]
  },
  {
   "cell_type": "code",
   "execution_count": 661,
   "metadata": {},
   "outputs": [],
   "source": [
    "medium_alpha,vol=high_close(high, low, x)"
   ]
  },
  {
   "cell_type": "code",
   "execution_count": 667,
   "metadata": {},
   "outputs": [
    {
     "data": {
      "image/png": "[encoded data removed]",
      "text/plain": [
       "<Figure size 432x288 with 1 Axes>"
      ]
     },
     "metadata": {
      "needs_background": "light"
     },
     "output_type": "display_data"
    }
   ],
   "source": [
    "medium_pnl=build_pnl_by_alpha_new(medium_alpha,filt)"
   ]
  },
  {
   "cell_type": "markdown",
   "metadata": {},
   "source": [
    "open/close"
   ]
  },
  {
   "cell_type": "code",
   "execution_count": 47,
   "metadata": {},
   "outputs": [],
   "source": [
    "import math"
   ]
  },
  {
   "cell_type": "code",
   "execution_count": 48,
   "metadata": {},
   "outputs": [],
   "source": [
    "np.nan_to_num(op)\n",
    "op[op==0]=0.00001"
   ]
  },
  {
   "cell_type": "code",
   "execution_count": 49,
   "metadata": {},
   "outputs": [],
   "source": [
    "def open_close(op,close):\n",
    "    op=op.transpose()\n",
    "    close=close.transpose()\n",
    "    alphas=np.zeros((len(close),len(close[0])))\n",
    "    vol=np.zeros((len(close),len(close[0])))\n",
    "    for i in range(1,len(close)):\n",
    "        for j in range(len(close[0])):\n",
    "            vol[i][j]=op[i-1][j]/close[i-1][j]\n",
    "        alphas[i, :]=build_alpha(vol[i])\n",
    "    return alphas, vol"
   ]
  },
  {
   "cell_type": "code",
   "execution_count": 50,
   "metadata": {},
   "outputs": [],
   "source": [
    "alphas, oc=open_close(op, x)"
   ]
  },
  {
   "cell_type": "code",
   "execution_count": 51,
   "metadata": {},
   "outputs": [
    {
     "data": {
      "image/png": "[encoded data removed]",
      "text/plain": [
       "<Figure size 432x288 with 1 Axes>"
      ]
     },
     "metadata": {
      "needs_background": "light"
     },
     "output_type": "display_data"
    }
   ],
   "source": [
    "pnl_first=build_pnl_by_alpha_new(alphas, filt)"
   ]
  },
  {
   "cell_type": "markdown",
   "metadata": {},
   "source": [
    "Корреляция volume and close"
   ]
  },
  {
   "cell_type": "code",
   "execution_count": 194,
   "metadata": {},
   "outputs": [],
   "source": [
    "corr_vol_close=np.corrcoef(volume,x)\n",
    "#volume-file"
   ]
  },
  {
   "cell_type": "code",
   "execution_count": 195,
   "metadata": {},
   "outputs": [
    {
     "data": {
      "image/png": "[encoded data removed]",
      "text/plain": [
       "<Figure size 864x216 with 3 Axes>"
      ]
     },
     "metadata": {
      "needs_background": "light"
     },
     "output_type": "display_data"
    }
   ],
   "source": [
    "rho = corr_vol_close\n",
    "\n",
    "fig, ax = plt.subplots(nrows=1, ncols=3, figsize=(12, 3))\n",
    "for i in [0,1,2]:\n",
    "    ax[i].scatter(x[0,],x[1+i,])\n",
    "    ax[i].title.set_text('Correlation = ' + \"{:.2f}\".format(rho[0,i+1]))\n",
    "    ax[i].set(xlabel='x',ylabel='y')\n",
    "fig.subplots_adjust(wspace=.4)    \n",
    "plt.show()"
   ]
  },
  {
   "cell_type": "markdown",
   "metadata": {},
   "source": [
    "Rank_ts"
   ]
  },
  {
   "cell_type": "markdown",
   "metadata": {},
   "source": [
    "ts_rank(returns, 20)"
   ]
  },
  {
   "cell_type": "code",
   "execution_count": 54,
   "metadata": {},
   "outputs": [],
   "source": [
    "def rank(mat):\n",
    "    order = mat.argsort(axis=1)\n",
    "    ranks = order.argsort(axis=1)\n",
    "    return ranks"
   ]
  },
  {
   "cell_type": "code",
   "execution_count": 77,
   "metadata": {},
   "outputs": [],
   "source": [
    "def build_rank(filt):\n",
    "    alpha_rank=np.zeros((len(filt.transpose()),2436))\n",
    "    for i in range(20, len(filt.transpose())):\n",
    "        ranks=rank(filt[:, i-20:i])\n",
    "        alpha_rank[i]=build_alpha(ranks[:,-1])\n",
    "    return alpha_rank"
   ]
  },
  {
   "cell_type": "code",
   "execution_count": 78,
   "metadata": {},
   "outputs": [],
   "source": [
    "close_rank=build_rank(filt)"
   ]
  },
  {
   "cell_type": "code",
   "execution_count": 79,
   "metadata": {},
   "outputs": [
    {
     "data": {
      "text/plain": [
       "(1256, 2436)"
      ]
     },
     "execution_count": 79,
     "metadata": {},
     "output_type": "execute_result"
    }
   ],
   "source": [
    "close_rank.shape"
   ]
  },
  {
   "cell_type": "code",
   "execution_count": 84,
   "metadata": {},
   "outputs": [
    {
     "data": {
      "image/png": "[encoded data removed]",
      "text/plain": [
       "<Figure size 432x288 with 1 Axes>"
      ]
     },
     "metadata": {
      "needs_background": "light"
     },
     "output_type": "display_data"
    }
   ],
   "source": [
    "pnl_close_rank=build_pnl_by_alpha_new(close_rank,filt)"
   ]
  },
  {
   "cell_type": "markdown",
   "metadata": {},
   "source": [
    "ts_rank(volume, 20)"
   ]
  },
  {
   "cell_type": "code",
   "execution_count": 669,
   "metadata": {},
   "outputs": [],
   "source": [
    "volume_rank=vol_rank=build_rank(volume)"
   ]
  },
  {
   "cell_type": "code",
   "execution_count": 670,
   "metadata": {},
   "outputs": [
    {
     "data": {
      "image/png": "[encoded data removed]",
      "text/plain": [
       "<Figure size 432x288 with 1 Axes>"
      ]
     },
     "metadata": {
      "needs_background": "light"
     },
     "output_type": "display_data"
    }
   ],
   "source": [
    "pnl_volume_rank=build_pnl_by_alpha_new(volume_rank,filt)"
   ]
  },
  {
   "cell_type": "markdown",
   "metadata": {},
   "source": [
    "# Задача 5. KNN"
   ]
  },
  {
   "cell_type": "code",
   "execution_count": 85,
   "metadata": {},
   "outputs": [],
   "source": [
    "nbrs = NearestNeighbors(n_neighbors=5, algorithm='ball_tree').fit(filt)"
   ]
  },
  {
   "cell_type": "code",
   "execution_count": 86,
   "metadata": {},
   "outputs": [],
   "source": [
    "distances, indices = nbrs.kneighbors(filt)"
   ]
  },
  {
   "cell_type": "code",
   "execution_count": 87,
   "metadata": {},
   "outputs": [
    {
     "data": {
      "text/plain": [
       "(2436, 2436)"
      ]
     },
     "execution_count": 87,
     "metadata": {},
     "output_type": "execute_result"
    }
   ],
   "source": [
    "matrix=nbrs.kneighbors_graph(filt).toarray()\n",
    "matrix.shape"
   ]
  },
  {
   "cell_type": "markdown",
   "metadata": {},
   "source": [
    "# Задача 6. Price momentum"
   ]
  },
  {
   "cell_type": "code",
   "execution_count": 88,
   "metadata": {},
   "outputs": [],
   "source": [
    "def build_momentum(close):\n",
    "    r=np.zeros(len(close))\n",
    "    momentum_alpha=np.zeros((len(close), len(close[0])))\n",
    "    for day in range(273,len(close)):\n",
    "        for company in range(len(close[0])):\n",
    "            momentum_alpha[day][company]=(close[day-40:day-20, company].mean())/(close[day-273:day-253,company].mean())\n",
    "        momentum_alpha[day]=build_alpha(momentum_alpha[day])\n",
    "    return momentum_alpha"
   ]
  },
  {
   "cell_type": "code",
   "execution_count": 152,
   "metadata": {},
   "outputs": [],
   "source": [
    "alpha_momentum=build_momentum(filt)"
   ]
  },
  {
   "cell_type": "code",
   "execution_count": 522,
   "metadata": {},
   "outputs": [
    {
     "data": {
      "image/png": "[encoded data removed]",
      "text/plain": [
       "<Figure size 432x288 with 1 Axes>"
      ]
     },
     "metadata": {
      "needs_background": "light"
     },
     "output_type": "display_data"
    }
   ],
   "source": [
    "pnl_momentum=build_pnl_by_alpha_new(alpha_momentum,filt.transpose())"
   ]
  },
  {
   "cell_type": "markdown",
   "metadata": {},
   "source": [
    "# Задача 8-9. Портфели"
   ]
  },
  {
   "cell_type": "markdown",
   "metadata": {},
   "source": [
    "x[i]=L[i]*weight\n",
    "summ(x[i])=1"
   ]
  },
  {
   "cell_type": "markdown",
   "metadata": {},
   "source": [
    "Лучше всего работающие альфы: alpha_momentum, medium_alpha, rev_vol_alpha, pca_alpha, volume_rank"
   ]
  },
  {
   "cell_type": "markdown",
   "metadata": {},
   "source": [
    "weight_1=1/4\n",
    "weight_2=sharpe"
   ]
  },
  {
   "cell_type": "code",
   "execution_count": 696,
   "metadata": {},
   "outputs": [
    {
     "data": {
      "text/plain": [
       "Text(0, 0.5, 'pnl')"
      ]
     },
     "execution_count": 696,
     "metadata": {},
     "output_type": "execute_result"
    },
    {
     "data": {
      "image/png": "[encoded data removed]",
      "text/plain": [
       "<Figure size 1008x504 with 1 Axes>"
      ]
     },
     "metadata": {
      "needs_background": "light"
     },
     "output_type": "display_data"
    }
   ],
   "source": [
    "plt.figure(figsize=(14, 7))\n",
    "plt.plot(np.cumsum(pnl_volume_rank),  alpha=0.8, label=\"pnl_volume_rank\")\n",
    "plt.plot(np.cumsum(vol_rev_pnl),  alpha=0.8, label=\"vol_rev_pnl\")\n",
    "plt.plot(np.cumsum(medium_pnl),  alpha=0.8, label=\"medium_pnl\")\n",
    "plt.plot(np.cumsum(pnl_first),  alpha=0.8, label=\"open_close\")\n",
    "plt.plot(np.cumsum(pca_pnl),  alpha=0.8, label=\"pca_alpha\")\n",
    "plt.plot(np.cumsum(decay_pnl),  alpha=0.8, label=\"decay_alpha\")\n",
    "plt.legend(fontsize=12)\n",
    "plt.ylabel('pnl')"
   ]
  },
  {
   "cell_type": "markdown",
   "metadata": {},
   "source": [
    "# Портфель с весом sharpe"
   ]
  },
  {
   "cell_type": "code",
   "execution_count": 127,
   "metadata": {},
   "outputs": [],
   "source": [
    "days=1257\n",
    "companies=2436\n",
    "matrix=filt.transpose()"
   ]
  },
  {
   "cell_type": "code",
   "execution_count": 439,
   "metadata": {},
   "outputs": [],
   "source": [
    "alphas_sharpe=build_sharpe(alphas)[:5]\n",
    "med_sharpe=build_sharpe(medium_alpha)[:5]\n",
    "rev_sh=build_sharpe(rev_vol_alpha)[:5]\n",
    "vol_sharpe=build_sharpe(volume_rank)[:5]\n",
    "sum_sharpe=vol_sharpe+rev_sh+med_sharpe+alphas_sharpe\n",
    "alphas_sharpe=alphas_sharpe/sum_sharpe\n",
    "rev_sh=rev_sh/sum_sharpe\n",
    "vol_sharpe=vol_sharpe/sum_sharpe\n",
    "med_sharpe=med_sharpe/sum_sharpe"
   ]
  },
  {
   "cell_type": "code",
   "execution_count": 449,
   "metadata": {},
   "outputs": [],
   "source": [
    "summ_alpha=np.zeros(( len(alphas), len(alphas[0]) ))\n",
    "case=np.zeros((1257, 2436))\n",
    "for i in range(days):\n",
    "    for j in range(companies):\n",
    "        summ_alpha[i][j]=alphas[i][j]*alphas_sharpe[i//252]+rev_vol_alpha[i][j]*rev_sh[i//252]+medium_alpha[i][j]*med_sharpe[i//252]+volume_rank[i][j]*vol_sharpe[i//252]\n",
    "    case[i]=build_alpha(summ_alpha[i])"
   ]
  },
  {
   "cell_type": "code",
   "execution_count": 450,
   "metadata": {},
   "outputs": [
    {
     "data": {
      "image/png": "[encoded data removed]",
      "text/plain": [
       "<Figure size 432x288 with 1 Axes>"
      ]
     },
     "metadata": {
      "needs_background": "light"
     },
     "output_type": "display_data"
    }
   ],
   "source": [
    "pnl_first=build_pnl_by_alpha_new(case, filt)"
   ]
  },
  {
   "cell_type": "code",
   "execution_count": 614,
   "metadata": {},
   "outputs": [
    {
     "data": {
      "text/plain": [
       "array([ 2.41982702e-17, -3.57448374e-18, -3.38245473e-18, ...,\n",
       "        0.00000000e+00,  0.00000000e+00,  0.00000000e+00])"
      ]
     },
     "execution_count": 614,
     "metadata": {},
     "output_type": "execute_result"
    }
   ],
   "source": [
    "build_sharpe(case)"
   ]
  },
  {
   "cell_type": "markdown",
   "metadata": {},
   "source": [
    "# Портфель с весом 1/n"
   ]
  },
  {
   "cell_type": "code",
   "execution_count": 465,
   "metadata": {},
   "outputs": [],
   "source": [
    "alpha_n=np.zeros((days,companies))\n",
    "for i in range(days):\n",
    "    alpha_n[i]=build_alpha(medium_alpha[i]+volume_rank[i]+rev_vol_alpha[i]+alphas[i])"
   ]
  },
  {
   "cell_type": "code",
   "execution_count": 468,
   "metadata": {},
   "outputs": [
    {
     "data": {
      "image/png": "[encoded data removed]",
      "text/plain": [
       "<Figure size 432x288 with 1 Axes>"
      ]
     },
     "metadata": {
      "needs_background": "light"
     },
     "output_type": "display_data"
    }
   ],
   "source": [
    "pnl_n=build_pnl_by_alpha(alpha_n)"
   ]
  },
  {
   "cell_type": "code",
   "execution_count": 615,
   "metadata": {},
   "outputs": [
    {
     "data": {
      "text/plain": [
       "array([ 1.88014292e-17, -3.89872141e-18, -8.04061863e-18, ...,\n",
       "        0.00000000e+00,  0.00000000e+00,  0.00000000e+00])"
      ]
     },
     "execution_count": 615,
     "metadata": {},
     "output_type": "execute_result"
    }
   ],
   "source": [
    "build_sharpe(alpha_n)"
   ]
  },
  {
   "cell_type": "markdown",
   "metadata": {},
   "source": [
    "# Портфель Марковица"
   ]
  },
  {
   "cell_type": "code",
   "execution_count": 897,
   "metadata": {},
   "outputs": [],
   "source": [
    "list_pnl = np.vstack((np.cumsum(pnl_volume_rank), np.cumsum(vol_rev_pnl), np.cumsum(medium_pnl),np.cumsum(pnl_first)))\n",
    "alpha_list=np.vstack((medium_alpha,volume_rank,rev_vol_alpha,alphas))\n",
    "C = np.cov(list_pnl)\n",
    "min_risk = 1\n",
    "max_s = -1\n",
    "coefs = np.zeros(len(list_pnl))\n",
    "for i in range(len(list_pnl)):\n",
    "        weights = np.exp(np.random.randn(4))\n",
    "        weights = weights/ weights.sum()\n",
    "        R_n=0\n",
    "        for i in range(len(list_pnl)):\n",
    "            R_n = R_n + np.mean(list_pnl[i])*weights[i]\n",
    "        risk = np.sqrt(np.matmul(np.matmul(weights, C),weights))\n",
    "        max_sharp = R_n/Risk\n",
    "        if (risk < min_risk):\n",
    "            min_risk = risk\n",
    "            coefs = weights\n",
    "            if (max_sharp > max_s):\n",
    "                max_s = max_sharp\n",
    "                coefs = weights"
   ]
  },
  {
   "cell_type": "code",
   "execution_count": 898,
   "metadata": {},
   "outputs": [],
   "source": [
    "mark_alpha=np.zeros((days, companies))\n",
    "for i in range(days): \n",
    "    mark_alpha[i]=build_alpha(medium_alpha[i]*coefs[0]+volume_rank[i]*coefs[1]+rev_vol_alpha[i]*coefs[2]+alphas[i]*coefs[3])"
   ]
  },
  {
   "cell_type": "code",
   "execution_count": 899,
   "metadata": {},
   "outputs": [
    {
     "data": {
      "image/png": "[encoded data removed]",
      "text/plain": [
       "<Figure size 432x288 with 1 Axes>"
      ]
     },
     "metadata": {
      "needs_background": "light"
     },
     "output_type": "display_data"
    }
   ],
   "source": [
    "mark_pnl=build_pnl_by_alpha_new(mark_alpha, filt)"
   ]
  },
  {
   "cell_type": "markdown",
   "metadata": {},
   "source": [
    "# Через Бета"
   ]
  },
  {
   "cell_type": "markdown",
   "metadata": {},
   "source": [
    "в среднем доходность каждой акции стремится к доходности всего рынка."
   ]
  },
  {
   "cell_type": "code",
   "execution_count": 344,
   "metadata": {},
   "outputs": [
    {
     "data": {
      "text/html": [
       "<div>\n",
       "<style scoped>\n",
       "    .dataframe tbody tr th:only-of-type {\n",
       "        vertical-align: middle;\n",
       "    }\n",
       "\n",
       "    .dataframe tbody tr th {\n",
       "        vertical-align: top;\n",
       "    }\n",
       "\n",
       "    .dataframe thead th {\n",
       "        text-align: right;\n",
       "    }\n",
       "</style>\n",
       "<table border=\"1\" class=\"dataframe\">\n",
       "  <thead>\n",
       "    <tr style=\"text-align: right;\">\n",
       "      <th></th>\n",
       "      <th>0</th>\n",
       "      <th>1</th>\n",
       "      <th>2</th>\n",
       "      <th>3</th>\n",
       "      <th>4</th>\n",
       "      <th>5</th>\n",
       "      <th>6</th>\n",
       "      <th>7</th>\n",
       "      <th>8</th>\n",
       "      <th>9</th>\n",
       "      <th>...</th>\n",
       "      <th>2426</th>\n",
       "      <th>2427</th>\n",
       "      <th>2428</th>\n",
       "      <th>2429</th>\n",
       "      <th>2430</th>\n",
       "      <th>2431</th>\n",
       "      <th>2432</th>\n",
       "      <th>2433</th>\n",
       "      <th>2434</th>\n",
       "      <th>2435</th>\n",
       "    </tr>\n",
       "  </thead>\n",
       "  <tbody>\n",
       "    <tr>\n",
       "      <td>0</td>\n",
       "      <td>1.000000</td>\n",
       "      <td>0.115150</td>\n",
       "      <td>0.166811</td>\n",
       "      <td>0.111790</td>\n",
       "      <td>0.161507</td>\n",
       "      <td>0.128067</td>\n",
       "      <td>0.104893</td>\n",
       "      <td>0.165784</td>\n",
       "      <td>0.168275</td>\n",
       "      <td>0.140375</td>\n",
       "      <td>...</td>\n",
       "      <td>0.151920</td>\n",
       "      <td>0.124648</td>\n",
       "      <td>0.158371</td>\n",
       "      <td>0.229715</td>\n",
       "      <td>0.082511</td>\n",
       "      <td>0.157964</td>\n",
       "      <td>0.219327</td>\n",
       "      <td>0.162520</td>\n",
       "      <td>0.137517</td>\n",
       "      <td>0.244838</td>\n",
       "    </tr>\n",
       "    <tr>\n",
       "      <td>1</td>\n",
       "      <td>0.115150</td>\n",
       "      <td>1.000000</td>\n",
       "      <td>0.252128</td>\n",
       "      <td>0.256909</td>\n",
       "      <td>0.328559</td>\n",
       "      <td>0.344255</td>\n",
       "      <td>0.172443</td>\n",
       "      <td>0.294213</td>\n",
       "      <td>0.307367</td>\n",
       "      <td>0.194784</td>\n",
       "      <td>...</td>\n",
       "      <td>0.244626</td>\n",
       "      <td>0.306110</td>\n",
       "      <td>0.297138</td>\n",
       "      <td>0.311888</td>\n",
       "      <td>0.155659</td>\n",
       "      <td>0.283002</td>\n",
       "      <td>0.401711</td>\n",
       "      <td>0.328641</td>\n",
       "      <td>0.280604</td>\n",
       "      <td>0.364845</td>\n",
       "    </tr>\n",
       "    <tr>\n",
       "      <td>2</td>\n",
       "      <td>0.166811</td>\n",
       "      <td>0.252128</td>\n",
       "      <td>1.000000</td>\n",
       "      <td>0.429526</td>\n",
       "      <td>0.444367</td>\n",
       "      <td>0.388576</td>\n",
       "      <td>0.249401</td>\n",
       "      <td>0.467375</td>\n",
       "      <td>0.441466</td>\n",
       "      <td>0.264842</td>\n",
       "      <td>...</td>\n",
       "      <td>0.240130</td>\n",
       "      <td>0.465938</td>\n",
       "      <td>0.316984</td>\n",
       "      <td>0.324839</td>\n",
       "      <td>0.205538</td>\n",
       "      <td>0.348645</td>\n",
       "      <td>0.389297</td>\n",
       "      <td>0.482634</td>\n",
       "      <td>0.268359</td>\n",
       "      <td>0.398014</td>\n",
       "    </tr>\n",
       "    <tr>\n",
       "      <td>3</td>\n",
       "      <td>0.111790</td>\n",
       "      <td>0.256909</td>\n",
       "      <td>0.429526</td>\n",
       "      <td>1.000000</td>\n",
       "      <td>0.489554</td>\n",
       "      <td>0.407160</td>\n",
       "      <td>0.248704</td>\n",
       "      <td>0.483655</td>\n",
       "      <td>0.430482</td>\n",
       "      <td>0.268624</td>\n",
       "      <td>...</td>\n",
       "      <td>0.331437</td>\n",
       "      <td>0.418672</td>\n",
       "      <td>0.338703</td>\n",
       "      <td>0.383599</td>\n",
       "      <td>0.219341</td>\n",
       "      <td>0.364942</td>\n",
       "      <td>0.433108</td>\n",
       "      <td>0.557286</td>\n",
       "      <td>0.314347</td>\n",
       "      <td>0.496905</td>\n",
       "    </tr>\n",
       "    <tr>\n",
       "      <td>4</td>\n",
       "      <td>0.161507</td>\n",
       "      <td>0.328559</td>\n",
       "      <td>0.444367</td>\n",
       "      <td>0.489554</td>\n",
       "      <td>1.000000</td>\n",
       "      <td>0.462912</td>\n",
       "      <td>0.297721</td>\n",
       "      <td>0.540349</td>\n",
       "      <td>0.491488</td>\n",
       "      <td>0.297359</td>\n",
       "      <td>...</td>\n",
       "      <td>0.332551</td>\n",
       "      <td>0.505657</td>\n",
       "      <td>0.387221</td>\n",
       "      <td>0.458130</td>\n",
       "      <td>0.262545</td>\n",
       "      <td>0.387470</td>\n",
       "      <td>0.489527</td>\n",
       "      <td>0.578810</td>\n",
       "      <td>0.318723</td>\n",
       "      <td>0.531927</td>\n",
       "    </tr>\n",
       "    <tr>\n",
       "      <td>...</td>\n",
       "      <td>...</td>\n",
       "      <td>...</td>\n",
       "      <td>...</td>\n",
       "      <td>...</td>\n",
       "      <td>...</td>\n",
       "      <td>...</td>\n",
       "      <td>...</td>\n",
       "      <td>...</td>\n",
       "      <td>...</td>\n",
       "      <td>...</td>\n",
       "      <td>...</td>\n",
       "      <td>...</td>\n",
       "      <td>...</td>\n",
       "      <td>...</td>\n",
       "      <td>...</td>\n",
       "      <td>...</td>\n",
       "      <td>...</td>\n",
       "      <td>...</td>\n",
       "      <td>...</td>\n",
       "      <td>...</td>\n",
       "      <td>...</td>\n",
       "    </tr>\n",
       "    <tr>\n",
       "      <td>2431</td>\n",
       "      <td>0.157964</td>\n",
       "      <td>0.283002</td>\n",
       "      <td>0.348645</td>\n",
       "      <td>0.364942</td>\n",
       "      <td>0.387470</td>\n",
       "      <td>0.319800</td>\n",
       "      <td>0.206303</td>\n",
       "      <td>0.394944</td>\n",
       "      <td>0.383151</td>\n",
       "      <td>0.298731</td>\n",
       "      <td>...</td>\n",
       "      <td>0.239771</td>\n",
       "      <td>0.363380</td>\n",
       "      <td>0.362297</td>\n",
       "      <td>0.374348</td>\n",
       "      <td>0.168931</td>\n",
       "      <td>1.000000</td>\n",
       "      <td>0.367323</td>\n",
       "      <td>0.431672</td>\n",
       "      <td>0.216079</td>\n",
       "      <td>0.389122</td>\n",
       "    </tr>\n",
       "    <tr>\n",
       "      <td>2432</td>\n",
       "      <td>0.219327</td>\n",
       "      <td>0.401711</td>\n",
       "      <td>0.389297</td>\n",
       "      <td>0.433108</td>\n",
       "      <td>0.489527</td>\n",
       "      <td>0.639765</td>\n",
       "      <td>0.247419</td>\n",
       "      <td>0.468194</td>\n",
       "      <td>0.452764</td>\n",
       "      <td>0.336144</td>\n",
       "      <td>...</td>\n",
       "      <td>0.372083</td>\n",
       "      <td>0.424829</td>\n",
       "      <td>0.368985</td>\n",
       "      <td>0.498358</td>\n",
       "      <td>0.247361</td>\n",
       "      <td>0.367323</td>\n",
       "      <td>1.000000</td>\n",
       "      <td>0.531480</td>\n",
       "      <td>0.490307</td>\n",
       "      <td>0.563593</td>\n",
       "    </tr>\n",
       "    <tr>\n",
       "      <td>2433</td>\n",
       "      <td>0.162520</td>\n",
       "      <td>0.328641</td>\n",
       "      <td>0.482634</td>\n",
       "      <td>0.557286</td>\n",
       "      <td>0.578810</td>\n",
       "      <td>0.518252</td>\n",
       "      <td>0.319427</td>\n",
       "      <td>0.595353</td>\n",
       "      <td>0.511529</td>\n",
       "      <td>0.304205</td>\n",
       "      <td>...</td>\n",
       "      <td>0.371914</td>\n",
       "      <td>0.545559</td>\n",
       "      <td>0.408676</td>\n",
       "      <td>0.486328</td>\n",
       "      <td>0.279998</td>\n",
       "      <td>0.431672</td>\n",
       "      <td>0.531480</td>\n",
       "      <td>1.000000</td>\n",
       "      <td>0.342075</td>\n",
       "      <td>0.548732</td>\n",
       "    </tr>\n",
       "    <tr>\n",
       "      <td>2434</td>\n",
       "      <td>0.137517</td>\n",
       "      <td>0.280604</td>\n",
       "      <td>0.268359</td>\n",
       "      <td>0.314347</td>\n",
       "      <td>0.318723</td>\n",
       "      <td>0.525748</td>\n",
       "      <td>0.166226</td>\n",
       "      <td>0.326929</td>\n",
       "      <td>0.330338</td>\n",
       "      <td>0.227562</td>\n",
       "      <td>...</td>\n",
       "      <td>0.232065</td>\n",
       "      <td>0.262274</td>\n",
       "      <td>0.218623</td>\n",
       "      <td>0.284452</td>\n",
       "      <td>0.161271</td>\n",
       "      <td>0.216079</td>\n",
       "      <td>0.490307</td>\n",
       "      <td>0.342075</td>\n",
       "      <td>1.000000</td>\n",
       "      <td>0.336310</td>\n",
       "    </tr>\n",
       "    <tr>\n",
       "      <td>2435</td>\n",
       "      <td>0.244838</td>\n",
       "      <td>0.364845</td>\n",
       "      <td>0.398014</td>\n",
       "      <td>0.496905</td>\n",
       "      <td>0.531927</td>\n",
       "      <td>0.467974</td>\n",
       "      <td>0.261243</td>\n",
       "      <td>0.503817</td>\n",
       "      <td>0.485280</td>\n",
       "      <td>0.392008</td>\n",
       "      <td>...</td>\n",
       "      <td>0.461457</td>\n",
       "      <td>0.437517</td>\n",
       "      <td>0.426811</td>\n",
       "      <td>0.669966</td>\n",
       "      <td>0.236796</td>\n",
       "      <td>0.389122</td>\n",
       "      <td>0.563593</td>\n",
       "      <td>0.548732</td>\n",
       "      <td>0.336310</td>\n",
       "      <td>1.000000</td>\n",
       "    </tr>\n",
       "  </tbody>\n",
       "</table>\n",
       "<p>2436 rows × 2436 columns</p>\n",
       "</div>"
      ],
      "text/plain": [
       "          0         1         2         3         4         5         6     \\\n",
       "0     1.000000  0.115150  0.166811  0.111790  0.161507  0.128067  0.104893   \n",
       "1     0.115150  1.000000  0.252128  0.256909  0.328559  0.344255  0.172443   \n",
       "2     0.166811  0.252128  1.000000  0.429526  0.444367  0.388576  0.249401   \n",
       "3     0.111790  0.256909  0.429526  1.000000  0.489554  0.407160  0.248704   \n",
       "4     0.161507  0.328559  0.444367  0.489554  1.000000  0.462912  0.297721   \n",
       "...        ...       ...       ...       ...       ...       ...       ...   \n",
       "2431  0.157964  0.283002  0.348645  0.364942  0.387470  0.319800  0.206303   \n",
       "2432  0.219327  0.401711  0.389297  0.433108  0.489527  0.639765  0.247419   \n",
       "2433  0.162520  0.328641  0.482634  0.557286  0.578810  0.518252  0.319427   \n",
       "2434  0.137517  0.280604  0.268359  0.314347  0.318723  0.525748  0.166226   \n",
       "2435  0.244838  0.364845  0.398014  0.496905  0.531927  0.467974  0.261243   \n",
       "\n",
       "          7         8         9     ...      2426      2427      2428  \\\n",
       "0     0.165784  0.168275  0.140375  ...  0.151920  0.124648  0.158371   \n",
       "1     0.294213  0.307367  0.194784  ...  0.244626  0.306110  0.297138   \n",
       "2     0.467375  0.441466  0.264842  ...  0.240130  0.465938  0.316984   \n",
       "3     0.483655  0.430482  0.268624  ...  0.331437  0.418672  0.338703   \n",
       "4     0.540349  0.491488  0.297359  ...  0.332551  0.505657  0.387221   \n",
       "...        ...       ...       ...  ...       ...       ...       ...   \n",
       "2431  0.394944  0.383151  0.298731  ...  0.239771  0.363380  0.362297   \n",
       "2432  0.468194  0.452764  0.336144  ...  0.372083  0.424829  0.368985   \n",
       "2433  0.595353  0.511529  0.304205  ...  0.371914  0.545559  0.408676   \n",
       "2434  0.326929  0.330338  0.227562  ...  0.232065  0.262274  0.218623   \n",
       "2435  0.503817  0.485280  0.392008  ...  0.461457  0.437517  0.426811   \n",
       "\n",
       "          2429      2430      2431      2432      2433      2434      2435  \n",
       "0     0.229715  0.082511  0.157964  0.219327  0.162520  0.137517  0.244838  \n",
       "1     0.311888  0.155659  0.283002  0.401711  0.328641  0.280604  0.364845  \n",
       "2     0.324839  0.205538  0.348645  0.389297  0.482634  0.268359  0.398014  \n",
       "3     0.383599  0.219341  0.364942  0.433108  0.557286  0.314347  0.496905  \n",
       "4     0.458130  0.262545  0.387470  0.489527  0.578810  0.318723  0.531927  \n",
       "...        ...       ...       ...       ...       ...       ...       ...  \n",
       "2431  0.374348  0.168931  1.000000  0.367323  0.431672  0.216079  0.389122  \n",
       "2432  0.498358  0.247361  0.367323  1.000000  0.531480  0.490307  0.563593  \n",
       "2433  0.486328  0.279998  0.431672  0.531480  1.000000  0.342075  0.548732  \n",
       "2434  0.284452  0.161271  0.216079  0.490307  0.342075  1.000000  0.336310  \n",
       "2435  0.669966  0.236796  0.389122  0.563593  0.548732  0.336310  1.000000  \n",
       "\n",
       "[2436 rows x 2436 columns]"
      ]
     },
     "execution_count": 344,
     "metadata": {},
     "output_type": "execute_result"
    }
   ],
   "source": [
    "pd.DataFrame(np.corrcoef(filt))"
   ]
  },
  {
   "cell_type": "code",
   "execution_count": 351,
   "metadata": {},
   "outputs": [
    {
     "data": {
      "text/plain": [
       "0.9999999999999996"
      ]
     },
     "execution_count": 351,
     "metadata": {},
     "output_type": "execute_result"
    }
   ],
   "source": [
    "weights=np.random.random(companies)\n",
    "weights = weights/np.sum(weights)\n",
    "sum(weights)"
   ]
  },
  {
   "cell_type": "markdown",
   "metadata": {},
   "source": [
    "Ожидаемая доходность"
   ]
  },
  {
   "cell_type": "code",
   "execution_count": 370,
   "metadata": {},
   "outputs": [
    {
     "name": "stdout",
     "output_type": "stream",
     "text": [
      "(2436, 1256)\n",
      "(1257, 2436)\n"
     ]
    },
    {
     "data": {
      "text/plain": [
       "array([9.36693061e-05, 5.41721636e-04, 5.92983599e-04, ...,\n",
       "       6.72998542e-04, 4.13738110e-04, 2.80384861e-04])"
      ]
     },
     "execution_count": 370,
     "metadata": {},
     "output_type": "execute_result"
    }
   ],
   "source": [
    "print(filt.shape)\n",
    "print(case.shape)\n",
    "weights"
   ]
  },
  {
   "cell_type": "code",
   "execution_count": 512,
   "metadata": {},
   "outputs": [
    {
     "data": {
      "text/plain": [
       "0.23645016509424815"
      ]
     },
     "execution_count": 512,
     "metadata": {},
     "output_type": "execute_result"
    }
   ],
   "source": [
    "R_f=sum(weights * filt.mean())*250\n",
    "R_f"
   ]
  },
  {
   "cell_type": "markdown",
   "metadata": {},
   "source": [
    "Ожидаемое стандартное отклонение(volatility)"
   ]
  },
  {
   "cell_type": "code",
   "execution_count": 363,
   "metadata": {},
   "outputs": [
    {
     "data": {
      "text/plain": [
       "0.1696980937247441"
      ]
     },
     "execution_count": 363,
     "metadata": {},
     "output_type": "execute_result"
    }
   ],
   "source": [
    "np.sqrt(np.dot(weights.T, np.dot(np.cov(filt) * 250, weights)))"
   ]
  },
  {
   "cell_type": "markdown",
   "metadata": {},
   "source": [
    "Нахождение оптимальных весов"
   ]
  },
  {
   "cell_type": "code",
   "execution_count": 901,
   "metadata": {},
   "outputs": [
    {
     "data": {
      "text/html": [
       "<div>\n",
       "<style scoped>\n",
       "    .dataframe tbody tr th:only-of-type {\n",
       "        vertical-align: middle;\n",
       "    }\n",
       "\n",
       "    .dataframe tbody tr th {\n",
       "        vertical-align: top;\n",
       "    }\n",
       "\n",
       "    .dataframe thead th {\n",
       "        text-align: right;\n",
       "    }\n",
       "</style>\n",
       "<table border=\"1\" class=\"dataframe\">\n",
       "  <thead>\n",
       "    <tr style=\"text-align: right;\">\n",
       "      <th></th>\n",
       "      <th>Expected Return</th>\n",
       "      <th>Standard deviation</th>\n",
       "    </tr>\n",
       "  </thead>\n",
       "  <tbody>\n",
       "    <tr>\n",
       "      <td>0</td>\n",
       "      <td>0.23645</td>\n",
       "      <td>0.170308</td>\n",
       "    </tr>\n",
       "    <tr>\n",
       "      <td>1</td>\n",
       "      <td>0.23645</td>\n",
       "      <td>0.172371</td>\n",
       "    </tr>\n",
       "    <tr>\n",
       "      <td>2</td>\n",
       "      <td>0.23645</td>\n",
       "      <td>0.171723</td>\n",
       "    </tr>\n",
       "    <tr>\n",
       "      <td>3</td>\n",
       "      <td>0.23645</td>\n",
       "      <td>0.170126</td>\n",
       "    </tr>\n",
       "    <tr>\n",
       "      <td>4</td>\n",
       "      <td>0.23645</td>\n",
       "      <td>0.170939</td>\n",
       "    </tr>\n",
       "  </tbody>\n",
       "</table>\n",
       "</div>"
      ],
      "text/plain": [
       "   Expected Return  Standard deviation\n",
       "0          0.23645            0.170308\n",
       "1          0.23645            0.172371\n",
       "2          0.23645            0.171723\n",
       "3          0.23645            0.170126\n",
       "4          0.23645            0.170939"
      ]
     },
     "execution_count": 901,
     "metadata": {},
     "output_type": "execute_result"
    }
   ],
   "source": [
    "np.random.seed(42)\n",
    "e_rn = []#ожидаемая доходность\n",
    "std_dev = []#волотильность\n",
    "all_weights=[]\n",
    "\n",
    "\n",
    "for i in range(100):\n",
    "    weights = np.random.random(companies)\n",
    "    weights = weights/ weights.sum()\n",
    "    e_rn.append((weights * filt.mean()).sum() * 250)\n",
    "    std_dev.append(np.sqrt(np.dot(weights.T, np.dot(np.cov(filt) * 250, weights))))\n",
    "    all_weights.append(weights)\n",
    "\n",
    "e_rn = np.array(e_rn) \n",
    "std_dev= np.array(std_dev)\n",
    "df = pd.DataFrame({ \"Expected Return\": e_rn, \"Standard deviation\": std_dev})\n",
    "df.head()"
   ]
  },
  {
   "cell_type": "markdown",
   "metadata": {},
   "source": [
    "plt.figure(figsize=(14,10 ), dpi=80)\n",
    "plt.scatter(df[\"Standard deviation\"], df[\"Expected Return\"])\n",
    "plt.xlabel(\"Standard deviation\")\n",
    "plt.ylabel(\"Expected return (in %)\")\n",
    "#plt.show()"
   ]
  },
  {
   "cell_type": "code",
   "execution_count": 902,
   "metadata": {},
   "outputs": [
    {
     "data": {
      "text/html": [
       "<div>\n",
       "<style scoped>\n",
       "    .dataframe tbody tr th:only-of-type {\n",
       "        vertical-align: middle;\n",
       "    }\n",
       "\n",
       "    .dataframe tbody tr th {\n",
       "        vertical-align: top;\n",
       "    }\n",
       "\n",
       "    .dataframe thead th {\n",
       "        text-align: right;\n",
       "    }\n",
       "</style>\n",
       "<table border=\"1\" class=\"dataframe\">\n",
       "  <thead>\n",
       "    <tr style=\"text-align: right;\">\n",
       "      <th></th>\n",
       "      <th>Expected Return</th>\n",
       "      <th>Standard deviation</th>\n",
       "    </tr>\n",
       "  </thead>\n",
       "  <tbody>\n",
       "    <tr>\n",
       "      <td>89</td>\n",
       "      <td>0.23645</td>\n",
       "      <td>0.169263</td>\n",
       "    </tr>\n",
       "    <tr>\n",
       "      <td>72</td>\n",
       "      <td>0.23645</td>\n",
       "      <td>0.169488</td>\n",
       "    </tr>\n",
       "    <tr>\n",
       "      <td>84</td>\n",
       "      <td>0.23645</td>\n",
       "      <td>0.169570</td>\n",
       "    </tr>\n",
       "    <tr>\n",
       "      <td>77</td>\n",
       "      <td>0.23645</td>\n",
       "      <td>0.169575</td>\n",
       "    </tr>\n",
       "    <tr>\n",
       "      <td>16</td>\n",
       "      <td>0.23645</td>\n",
       "      <td>0.169606</td>\n",
       "    </tr>\n",
       "    <tr>\n",
       "      <td>...</td>\n",
       "      <td>...</td>\n",
       "      <td>...</td>\n",
       "    </tr>\n",
       "    <tr>\n",
       "      <td>81</td>\n",
       "      <td>0.23645</td>\n",
       "      <td>0.172739</td>\n",
       "    </tr>\n",
       "    <tr>\n",
       "      <td>14</td>\n",
       "      <td>0.23645</td>\n",
       "      <td>0.172781</td>\n",
       "    </tr>\n",
       "    <tr>\n",
       "      <td>87</td>\n",
       "      <td>0.23645</td>\n",
       "      <td>0.172782</td>\n",
       "    </tr>\n",
       "    <tr>\n",
       "      <td>98</td>\n",
       "      <td>0.23645</td>\n",
       "      <td>0.172930</td>\n",
       "    </tr>\n",
       "    <tr>\n",
       "      <td>27</td>\n",
       "      <td>0.23645</td>\n",
       "      <td>0.173403</td>\n",
       "    </tr>\n",
       "  </tbody>\n",
       "</table>\n",
       "<p>100 rows × 2 columns</p>\n",
       "</div>"
      ],
      "text/plain": [
       "    Expected Return  Standard deviation\n",
       "89          0.23645            0.169263\n",
       "72          0.23645            0.169488\n",
       "84          0.23645            0.169570\n",
       "77          0.23645            0.169575\n",
       "16          0.23645            0.169606\n",
       "..              ...                 ...\n",
       "81          0.23645            0.172739\n",
       "14          0.23645            0.172781\n",
       "87          0.23645            0.172782\n",
       "98          0.23645            0.172930\n",
       "27          0.23645            0.173403\n",
       "\n",
       "[100 rows x 2 columns]"
      ]
     },
     "execution_count": 902,
     "metadata": {},
     "output_type": "execute_result"
    }
   ],
   "source": [
    "df[(df[\"Expected Return\"]>0.135)].sort_values(by=['Expected Return']).sort_values(by=['Standard deviation'])"
   ]
  },
  {
   "cell_type": "code",
   "execution_count": 903,
   "metadata": {},
   "outputs": [
    {
     "name": "stdout",
     "output_type": "stream",
     "text": [
      "Expected Return       0.236450\n",
      "Standard deviation    0.169263\n",
      "Name: 89, dtype: float64\n",
      "[1.87552836e-04 5.24918403e-04 2.55088762e-04 ... 1.88702848e-04\n",
      " 9.48426627e-05 2.44314029e-04]\n"
     ]
    }
   ],
   "source": [
    "print(df.loc[89])\n",
    "print(all_weights[89])"
   ]
  },
  {
   "cell_type": "code",
   "execution_count": 904,
   "metadata": {},
   "outputs": [
    {
     "data": {
      "text/plain": [
       "0        iba.us\n",
       "1        wpz.us\n",
       "2       flic.us\n",
       "3        ncs.us\n",
       "4        gpk.us\n",
       "         ...   \n",
       "2431    roic.us\n",
       "2432     nbl.us\n",
       "2433     atu.us\n",
       "2434      co.us\n",
       "2435     apf.us\n",
       "Name: Unnamed: 0, Length: 2436, dtype: object"
      ]
     },
     "execution_count": 904,
     "metadata": {},
     "output_type": "execute_result"
    }
   ],
   "source": [
    "file1['Unnamed: 0']"
   ]
  },
  {
   "cell_type": "code",
   "execution_count": 906,
   "metadata": {},
   "outputs": [
    {
     "data": {
      "text/html": [
       "<div>\n",
       "<style scoped>\n",
       "    .dataframe tbody tr th:only-of-type {\n",
       "        vertical-align: middle;\n",
       "    }\n",
       "\n",
       "    .dataframe tbody tr th {\n",
       "        vertical-align: top;\n",
       "    }\n",
       "\n",
       "    .dataframe thead th {\n",
       "        text-align: right;\n",
       "    }\n",
       "</style>\n",
       "<table border=\"1\" class=\"dataframe\">\n",
       "  <thead>\n",
       "    <tr style=\"text-align: right;\">\n",
       "      <th></th>\n",
       "      <th>Company</th>\n",
       "      <th>Weights</th>\n",
       "    </tr>\n",
       "  </thead>\n",
       "  <tbody>\n",
       "    <tr>\n",
       "      <td>0</td>\n",
       "      <td>iba.us</td>\n",
       "      <td>0.000188</td>\n",
       "    </tr>\n",
       "    <tr>\n",
       "      <td>1</td>\n",
       "      <td>wpz.us</td>\n",
       "      <td>0.000525</td>\n",
       "    </tr>\n",
       "    <tr>\n",
       "      <td>2</td>\n",
       "      <td>flic.us</td>\n",
       "      <td>0.000255</td>\n",
       "    </tr>\n",
       "    <tr>\n",
       "      <td>3</td>\n",
       "      <td>ncs.us</td>\n",
       "      <td>0.000641</td>\n",
       "    </tr>\n",
       "    <tr>\n",
       "      <td>4</td>\n",
       "      <td>gpk.us</td>\n",
       "      <td>0.000316</td>\n",
       "    </tr>\n",
       "    <tr>\n",
       "      <td>...</td>\n",
       "      <td>...</td>\n",
       "      <td>...</td>\n",
       "    </tr>\n",
       "    <tr>\n",
       "      <td>2431</td>\n",
       "      <td>roic.us</td>\n",
       "      <td>0.000168</td>\n",
       "    </tr>\n",
       "    <tr>\n",
       "      <td>2432</td>\n",
       "      <td>nbl.us</td>\n",
       "      <td>0.000601</td>\n",
       "    </tr>\n",
       "    <tr>\n",
       "      <td>2433</td>\n",
       "      <td>atu.us</td>\n",
       "      <td>0.000189</td>\n",
       "    </tr>\n",
       "    <tr>\n",
       "      <td>2434</td>\n",
       "      <td>co.us</td>\n",
       "      <td>0.000095</td>\n",
       "    </tr>\n",
       "    <tr>\n",
       "      <td>2435</td>\n",
       "      <td>apf.us</td>\n",
       "      <td>0.000244</td>\n",
       "    </tr>\n",
       "  </tbody>\n",
       "</table>\n",
       "<p>2436 rows × 2 columns</p>\n",
       "</div>"
      ],
      "text/plain": [
       "      Company   Weights\n",
       "0      iba.us  0.000188\n",
       "1      wpz.us  0.000525\n",
       "2     flic.us  0.000255\n",
       "3      ncs.us  0.000641\n",
       "4      gpk.us  0.000316\n",
       "...       ...       ...\n",
       "2431  roic.us  0.000168\n",
       "2432   nbl.us  0.000601\n",
       "2433   atu.us  0.000189\n",
       "2434    co.us  0.000095\n",
       "2435   apf.us  0.000244\n",
       "\n",
       "[2436 rows x 2 columns]"
      ]
     },
     "execution_count": 906,
     "metadata": {},
     "output_type": "execute_result"
    }
   ],
   "source": [
    "weigh=all_weights[89]\n",
    "pd.DataFrame({\"Company\": file1['Unnamed: 0'], \"Weights\": weigh})"
   ]
  },
  {
   "cell_type": "code",
   "execution_count": 711,
   "metadata": {},
   "outputs": [],
   "source": [
    "#Портфельная теория Марковица говорит, что мы все берем в лонг, поэтому нужно просто взять акции с этими весами"
   ]
  },
  {
   "cell_type": "markdown",
   "metadata": {},
   "source": [
    "# Через Beta"
   ]
  },
  {
   "cell_type": "markdown",
   "metadata": {},
   "source": [
    "Построение Beta"
   ]
  },
  {
   "cell_type": "code",
   "execution_count": 569,
   "metadata": {},
   "outputs": [
    {
     "name": "stdout",
     "output_type": "stream",
     "text": [
      "Матрица ковариаций доходности инструментов\n"
     ]
    },
    {
     "data": {
      "text/html": [
       "<div>\n",
       "<style scoped>\n",
       "    .dataframe tbody tr th:only-of-type {\n",
       "        vertical-align: middle;\n",
       "    }\n",
       "\n",
       "    .dataframe tbody tr th {\n",
       "        vertical-align: top;\n",
       "    }\n",
       "\n",
       "    .dataframe thead th {\n",
       "        text-align: right;\n",
       "    }\n",
       "</style>\n",
       "<table border=\"1\" class=\"dataframe\">\n",
       "  <thead>\n",
       "    <tr style=\"text-align: right;\">\n",
       "      <th></th>\n",
       "      <th>0</th>\n",
       "      <th>1</th>\n",
       "      <th>2</th>\n",
       "      <th>3</th>\n",
       "      <th>4</th>\n",
       "      <th>5</th>\n",
       "      <th>6</th>\n",
       "      <th>7</th>\n",
       "      <th>8</th>\n",
       "      <th>9</th>\n",
       "      <th>...</th>\n",
       "      <th>2426</th>\n",
       "      <th>2427</th>\n",
       "      <th>2428</th>\n",
       "      <th>2429</th>\n",
       "      <th>2430</th>\n",
       "      <th>2431</th>\n",
       "      <th>2432</th>\n",
       "      <th>2433</th>\n",
       "      <th>2434</th>\n",
       "      <th>2435</th>\n",
       "    </tr>\n",
       "  </thead>\n",
       "  <tbody>\n",
       "    <tr>\n",
       "      <td>0</td>\n",
       "      <td>0.000280</td>\n",
       "      <td>0.000027</td>\n",
       "      <td>0.000046</td>\n",
       "      <td>0.000051</td>\n",
       "      <td>0.000060</td>\n",
       "      <td>0.000065</td>\n",
       "      <td>0.000038</td>\n",
       "      <td>0.000067</td>\n",
       "      <td>0.000039</td>\n",
       "      <td>0.000048</td>\n",
       "      <td>...</td>\n",
       "      <td>0.000053</td>\n",
       "      <td>0.000051</td>\n",
       "      <td>0.000030</td>\n",
       "      <td>0.000048</td>\n",
       "      <td>0.000045</td>\n",
       "      <td>0.000027</td>\n",
       "      <td>0.000067</td>\n",
       "      <td>0.000051</td>\n",
       "      <td>0.000065</td>\n",
       "      <td>0.000043</td>\n",
       "    </tr>\n",
       "    <tr>\n",
       "      <td>1</td>\n",
       "      <td>0.000027</td>\n",
       "      <td>0.000201</td>\n",
       "      <td>0.000059</td>\n",
       "      <td>0.000100</td>\n",
       "      <td>0.000104</td>\n",
       "      <td>0.000147</td>\n",
       "      <td>0.000053</td>\n",
       "      <td>0.000101</td>\n",
       "      <td>0.000060</td>\n",
       "      <td>0.000056</td>\n",
       "      <td>...</td>\n",
       "      <td>0.000072</td>\n",
       "      <td>0.000106</td>\n",
       "      <td>0.000047</td>\n",
       "      <td>0.000055</td>\n",
       "      <td>0.000072</td>\n",
       "      <td>0.000040</td>\n",
       "      <td>0.000104</td>\n",
       "      <td>0.000087</td>\n",
       "      <td>0.000112</td>\n",
       "      <td>0.000054</td>\n",
       "    </tr>\n",
       "    <tr>\n",
       "      <td>2</td>\n",
       "      <td>0.000046</td>\n",
       "      <td>0.000059</td>\n",
       "      <td>0.000275</td>\n",
       "      <td>0.000195</td>\n",
       "      <td>0.000165</td>\n",
       "      <td>0.000195</td>\n",
       "      <td>0.000089</td>\n",
       "      <td>0.000188</td>\n",
       "      <td>0.000102</td>\n",
       "      <td>0.000089</td>\n",
       "      <td>...</td>\n",
       "      <td>0.000082</td>\n",
       "      <td>0.000189</td>\n",
       "      <td>0.000059</td>\n",
       "      <td>0.000067</td>\n",
       "      <td>0.000112</td>\n",
       "      <td>0.000058</td>\n",
       "      <td>0.000118</td>\n",
       "      <td>0.000150</td>\n",
       "      <td>0.000125</td>\n",
       "      <td>0.000069</td>\n",
       "    </tr>\n",
       "    <tr>\n",
       "      <td>3</td>\n",
       "      <td>0.000051</td>\n",
       "      <td>0.000100</td>\n",
       "      <td>0.000195</td>\n",
       "      <td>0.000748</td>\n",
       "      <td>0.000300</td>\n",
       "      <td>0.000337</td>\n",
       "      <td>0.000147</td>\n",
       "      <td>0.000321</td>\n",
       "      <td>0.000163</td>\n",
       "      <td>0.000149</td>\n",
       "      <td>...</td>\n",
       "      <td>0.000187</td>\n",
       "      <td>0.000280</td>\n",
       "      <td>0.000103</td>\n",
       "      <td>0.000130</td>\n",
       "      <td>0.000197</td>\n",
       "      <td>0.000101</td>\n",
       "      <td>0.000216</td>\n",
       "      <td>0.000286</td>\n",
       "      <td>0.000242</td>\n",
       "      <td>0.000142</td>\n",
       "    </tr>\n",
       "    <tr>\n",
       "      <td>4</td>\n",
       "      <td>0.000060</td>\n",
       "      <td>0.000104</td>\n",
       "      <td>0.000165</td>\n",
       "      <td>0.000300</td>\n",
       "      <td>0.000500</td>\n",
       "      <td>0.000313</td>\n",
       "      <td>0.000144</td>\n",
       "      <td>0.000293</td>\n",
       "      <td>0.000153</td>\n",
       "      <td>0.000135</td>\n",
       "      <td>...</td>\n",
       "      <td>0.000154</td>\n",
       "      <td>0.000277</td>\n",
       "      <td>0.000096</td>\n",
       "      <td>0.000127</td>\n",
       "      <td>0.000192</td>\n",
       "      <td>0.000088</td>\n",
       "      <td>0.000200</td>\n",
       "      <td>0.000243</td>\n",
       "      <td>0.000201</td>\n",
       "      <td>0.000124</td>\n",
       "    </tr>\n",
       "    <tr>\n",
       "      <td>...</td>\n",
       "      <td>...</td>\n",
       "      <td>...</td>\n",
       "      <td>...</td>\n",
       "      <td>...</td>\n",
       "      <td>...</td>\n",
       "      <td>...</td>\n",
       "      <td>...</td>\n",
       "      <td>...</td>\n",
       "      <td>...</td>\n",
       "      <td>...</td>\n",
       "      <td>...</td>\n",
       "      <td>...</td>\n",
       "      <td>...</td>\n",
       "      <td>...</td>\n",
       "      <td>...</td>\n",
       "      <td>...</td>\n",
       "      <td>...</td>\n",
       "      <td>...</td>\n",
       "      <td>...</td>\n",
       "      <td>...</td>\n",
       "      <td>...</td>\n",
       "    </tr>\n",
       "    <tr>\n",
       "      <td>2431</td>\n",
       "      <td>0.000027</td>\n",
       "      <td>0.000040</td>\n",
       "      <td>0.000058</td>\n",
       "      <td>0.000101</td>\n",
       "      <td>0.000088</td>\n",
       "      <td>0.000098</td>\n",
       "      <td>0.000045</td>\n",
       "      <td>0.000097</td>\n",
       "      <td>0.000054</td>\n",
       "      <td>0.000061</td>\n",
       "      <td>...</td>\n",
       "      <td>0.000050</td>\n",
       "      <td>0.000090</td>\n",
       "      <td>0.000041</td>\n",
       "      <td>0.000047</td>\n",
       "      <td>0.000056</td>\n",
       "      <td>0.000102</td>\n",
       "      <td>0.000068</td>\n",
       "      <td>0.000082</td>\n",
       "      <td>0.000061</td>\n",
       "      <td>0.000041</td>\n",
       "    </tr>\n",
       "    <tr>\n",
       "      <td>2432</td>\n",
       "      <td>0.000067</td>\n",
       "      <td>0.000104</td>\n",
       "      <td>0.000118</td>\n",
       "      <td>0.000216</td>\n",
       "      <td>0.000200</td>\n",
       "      <td>0.000352</td>\n",
       "      <td>0.000097</td>\n",
       "      <td>0.000207</td>\n",
       "      <td>0.000115</td>\n",
       "      <td>0.000125</td>\n",
       "      <td>...</td>\n",
       "      <td>0.000140</td>\n",
       "      <td>0.000189</td>\n",
       "      <td>0.000075</td>\n",
       "      <td>0.000113</td>\n",
       "      <td>0.000148</td>\n",
       "      <td>0.000068</td>\n",
       "      <td>0.000332</td>\n",
       "      <td>0.000182</td>\n",
       "      <td>0.000252</td>\n",
       "      <td>0.000107</td>\n",
       "    </tr>\n",
       "    <tr>\n",
       "      <td>2433</td>\n",
       "      <td>0.000051</td>\n",
       "      <td>0.000087</td>\n",
       "      <td>0.000150</td>\n",
       "      <td>0.000286</td>\n",
       "      <td>0.000243</td>\n",
       "      <td>0.000294</td>\n",
       "      <td>0.000129</td>\n",
       "      <td>0.000271</td>\n",
       "      <td>0.000133</td>\n",
       "      <td>0.000116</td>\n",
       "      <td>...</td>\n",
       "      <td>0.000144</td>\n",
       "      <td>0.000250</td>\n",
       "      <td>0.000085</td>\n",
       "      <td>0.000113</td>\n",
       "      <td>0.000172</td>\n",
       "      <td>0.000082</td>\n",
       "      <td>0.000182</td>\n",
       "      <td>0.000352</td>\n",
       "      <td>0.000181</td>\n",
       "      <td>0.000108</td>\n",
       "    </tr>\n",
       "    <tr>\n",
       "      <td>2434</td>\n",
       "      <td>0.000065</td>\n",
       "      <td>0.000112</td>\n",
       "      <td>0.000125</td>\n",
       "      <td>0.000242</td>\n",
       "      <td>0.000201</td>\n",
       "      <td>0.000448</td>\n",
       "      <td>0.000101</td>\n",
       "      <td>0.000223</td>\n",
       "      <td>0.000129</td>\n",
       "      <td>0.000130</td>\n",
       "      <td>...</td>\n",
       "      <td>0.000135</td>\n",
       "      <td>0.000181</td>\n",
       "      <td>0.000069</td>\n",
       "      <td>0.000099</td>\n",
       "      <td>0.000149</td>\n",
       "      <td>0.000061</td>\n",
       "      <td>0.000252</td>\n",
       "      <td>0.000181</td>\n",
       "      <td>0.000794</td>\n",
       "      <td>0.000099</td>\n",
       "    </tr>\n",
       "    <tr>\n",
       "      <td>2435</td>\n",
       "      <td>0.000043</td>\n",
       "      <td>0.000054</td>\n",
       "      <td>0.000069</td>\n",
       "      <td>0.000142</td>\n",
       "      <td>0.000124</td>\n",
       "      <td>0.000148</td>\n",
       "      <td>0.000059</td>\n",
       "      <td>0.000128</td>\n",
       "      <td>0.000070</td>\n",
       "      <td>0.000083</td>\n",
       "      <td>...</td>\n",
       "      <td>0.000100</td>\n",
       "      <td>0.000112</td>\n",
       "      <td>0.000050</td>\n",
       "      <td>0.000087</td>\n",
       "      <td>0.000081</td>\n",
       "      <td>0.000041</td>\n",
       "      <td>0.000107</td>\n",
       "      <td>0.000108</td>\n",
       "      <td>0.000099</td>\n",
       "      <td>0.000109</td>\n",
       "    </tr>\n",
       "  </tbody>\n",
       "</table>\n",
       "<p>2436 rows × 2436 columns</p>\n",
       "</div>"
      ],
      "text/plain": [
       "          0         1         2         3         4         5         6     \\\n",
       "0     0.000280  0.000027  0.000046  0.000051  0.000060  0.000065  0.000038   \n",
       "1     0.000027  0.000201  0.000059  0.000100  0.000104  0.000147  0.000053   \n",
       "2     0.000046  0.000059  0.000275  0.000195  0.000165  0.000195  0.000089   \n",
       "3     0.000051  0.000100  0.000195  0.000748  0.000300  0.000337  0.000147   \n",
       "4     0.000060  0.000104  0.000165  0.000300  0.000500  0.000313  0.000144   \n",
       "...        ...       ...       ...       ...       ...       ...       ...   \n",
       "2431  0.000027  0.000040  0.000058  0.000101  0.000088  0.000098  0.000045   \n",
       "2432  0.000067  0.000104  0.000118  0.000216  0.000200  0.000352  0.000097   \n",
       "2433  0.000051  0.000087  0.000150  0.000286  0.000243  0.000294  0.000129   \n",
       "2434  0.000065  0.000112  0.000125  0.000242  0.000201  0.000448  0.000101   \n",
       "2435  0.000043  0.000054  0.000069  0.000142  0.000124  0.000148  0.000059   \n",
       "\n",
       "          7         8         9     ...      2426      2427      2428  \\\n",
       "0     0.000067  0.000039  0.000048  ...  0.000053  0.000051  0.000030   \n",
       "1     0.000101  0.000060  0.000056  ...  0.000072  0.000106  0.000047   \n",
       "2     0.000188  0.000102  0.000089  ...  0.000082  0.000189  0.000059   \n",
       "3     0.000321  0.000163  0.000149  ...  0.000187  0.000280  0.000103   \n",
       "4     0.000293  0.000153  0.000135  ...  0.000154  0.000277  0.000096   \n",
       "...        ...       ...       ...  ...       ...       ...       ...   \n",
       "2431  0.000097  0.000054  0.000061  ...  0.000050  0.000090  0.000041   \n",
       "2432  0.000207  0.000115  0.000125  ...  0.000140  0.000189  0.000075   \n",
       "2433  0.000271  0.000133  0.000116  ...  0.000144  0.000250  0.000085   \n",
       "2434  0.000223  0.000129  0.000130  ...  0.000135  0.000181  0.000069   \n",
       "2435  0.000128  0.000070  0.000083  ...  0.000100  0.000112  0.000050   \n",
       "\n",
       "          2429      2430      2431      2432      2433      2434      2435  \n",
       "0     0.000048  0.000045  0.000027  0.000067  0.000051  0.000065  0.000043  \n",
       "1     0.000055  0.000072  0.000040  0.000104  0.000087  0.000112  0.000054  \n",
       "2     0.000067  0.000112  0.000058  0.000118  0.000150  0.000125  0.000069  \n",
       "3     0.000130  0.000197  0.000101  0.000216  0.000286  0.000242  0.000142  \n",
       "4     0.000127  0.000192  0.000088  0.000200  0.000243  0.000201  0.000124  \n",
       "...        ...       ...       ...       ...       ...       ...       ...  \n",
       "2431  0.000047  0.000056  0.000102  0.000068  0.000082  0.000061  0.000041  \n",
       "2432  0.000113  0.000148  0.000068  0.000332  0.000182  0.000252  0.000107  \n",
       "2433  0.000113  0.000172  0.000082  0.000182  0.000352  0.000181  0.000108  \n",
       "2434  0.000099  0.000149  0.000061  0.000252  0.000181  0.000794  0.000099  \n",
       "2435  0.000087  0.000081  0.000041  0.000107  0.000108  0.000099  0.000109  \n",
       "\n",
       "[2436 rows x 2436 columns]"
      ]
     },
     "execution_count": 569,
     "metadata": {},
     "output_type": "execute_result"
    }
   ],
   "source": [
    "print(\"Матрица ковариаций доходности инструментов\")\n",
    "pd.DataFrame(np.cov(filt))"
   ]
  },
  {
   "cell_type": "code",
   "execution_count": 780,
   "metadata": {},
   "outputs": [],
   "source": [
    "Beta=np.zeros((companies, companies))\n",
    "for i in range(companies):\n",
    "    Beta[i]=np.cov(filt[i,:])/(np.std(filt))\n",
    "#pd.DataFrame(np.sum(Beta, axis=1))"
   ]
  },
  {
   "cell_type": "code",
   "execution_count": 781,
   "metadata": {},
   "outputs": [
    {
     "data": {
      "text/plain": [
       "0.021218522621506867"
      ]
     },
     "execution_count": 781,
     "metadata": {},
     "output_type": "execute_result"
    }
   ],
   "source": [
    "Beta.mean()"
   ]
  },
  {
   "cell_type": "code",
   "execution_count": 909,
   "metadata": {},
   "outputs": [],
   "source": [
    "weigh=((Beta*weigh)@filt).transpose()+alpha_n[:-1,:]\n",
    "for i in range(len(weigh)):\n",
    "    weigh[i]=build_alpha(weigh[i])"
   ]
  },
  {
   "cell_type": "code",
   "execution_count": 911,
   "metadata": {},
   "outputs": [
    {
     "data": {
      "image/png": "[encoded data removed]",
      "text/plain": [
       "<Figure size 432x288 with 1 Axes>"
      ]
     },
     "metadata": {
      "needs_background": "light"
     },
     "output_type": "display_data"
    }
   ],
   "source": [
    "pnl_beta=build_pnl_by_alpha_new(weigh,filt)"
   ]
  },
  {
   "cell_type": "code",
   "execution_count": 914,
   "metadata": {},
   "outputs": [
    {
     "data": {
      "text/plain": [
       "array([2.00793675, 1.00275975, 1.52482457, ..., 0.        , 0.        ,\n",
       "       0.        ])"
      ]
     },
     "execution_count": 914,
     "metadata": {},
     "output_type": "execute_result"
    }
   ],
   "source": [
    "build_sharpe(pnl_beta)"
   ]
  },
  {
   "cell_type": "code",
   "execution_count": null,
   "metadata": {},
   "outputs": [],
   "source": []
  }
 ],
 "metadata": {
  "kernelspec": {
   "display_name": "Python 3",
   "language": "python",
   "name": "python3"
  },
  "language_info": {
   "codemirror_mode": {
    "name": "ipython",
    "version": 3
   },
   "file_extension": ".py",
   "mimetype": "text/x-python",
   "name": "python",
   "nbconvert_exporter": "python",
   "pygments_lexer": "ipython3",
   "version": "3.7.4"
  }
 },
 "nbformat": 4,
 "nbformat_minor": 2
}
